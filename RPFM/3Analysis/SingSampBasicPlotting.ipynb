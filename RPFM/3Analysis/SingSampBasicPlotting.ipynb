{
 "cells": [
  {
   "cell_type": "markdown",
   "metadata": {},
   "source": [
    "# Set Up"
   ]
  },
  {
   "cell_type": "code",
   "execution_count": 5,
   "metadata": {
    "ExecuteTime": {
     "end_time": "2019-12-16T15:41:47.229451Z",
     "start_time": "2019-12-16T15:41:47.214437Z"
    },
    "hide_input": false,
    "init_cell": true
   },
   "outputs": [
    {
     "data": {
      "text/html": [
       "<style>.container { width:100% !important; }</style>"
      ],
      "text/plain": [
       "<IPython.core.display.HTML object>"
      ]
     },
     "metadata": {},
     "output_type": "display_data"
    }
   ],
   "source": [
    "%matplotlib notebook\n",
    "from IPython.core.display import display, HTML\n",
    "display(HTML(\"<style>.container { width:100% !important; }</style>\"))\n",
    "\n",
    "import bepy as be\n",
    "import numpy as np\n",
    "import pandas as pd\n",
    "from sklearn.decomposition import PCA, NMF, DictionaryLearning\n",
    "import matplotlib.pyplot as plt\n",
    "import seaborn as sns"
   ]
  },
  {
   "cell_type": "markdown",
   "metadata": {
    "ExecuteTime": {
     "end_time": "2019-01-18T19:58:11.256944Z",
     "start_time": "2019-01-18T19:58:11.252967Z"
    },
    "collapsed": true
   },
   "source": [
    "# Load Data"
   ]
  },
  {
   "cell_type": "code",
   "execution_count": 3,
   "metadata": {
    "ExecuteTime": {
     "end_time": "2019-10-08T14:43:11.786589Z",
     "start_time": "2019-10-08T14:42:49.623454Z"
    },
    "scrolled": false
   },
   "outputs": [
    {
     "name": "stderr",
     "output_type": "stream",
     "text": [
      "C:\\ProgramData\\Anaconda3\\lib\\site-packages\\bepy\\sample.py:30: DtypeWarning: Columns (18) have mixed types. Specify dtype option on import or set low_memory=False.\n",
      "  self.addentiresample(path, gridSize, adjustphase)\n",
      "C:\\ProgramData\\Anaconda3\\lib\\site-packages\\numpy\\lib\\arraysetops.py:568: FutureWarning: elementwise comparison failed; returning scalar instead, but in the future will perform elementwise comparison\n",
      "  mask |= (ar1 == a)\n"
     ]
    }
   ],
   "source": [
    "gridSize = 10\n",
    "sampName = 'M1B'\n",
    "path = 'D:\\\\Dropbox (GaTech)\\\\Dropbox (GaTech)\\\\ME-DboxMgmt-Bassiri-Gharb\\\\BE_Active\\\\Lee\\\\pt40_024\\\\10-07-2019\\\\Measurements\\\\'\n",
    "samp = be.Sample(path, gridSize, adjustphase=False)"
   ]
  },
  {
   "cell_type": "markdown",
   "metadata": {},
   "source": [
    "# Basic Plots"
   ]
  },
  {
   "cell_type": "markdown",
   "metadata": {},
   "source": [
    "## BE Scan Plots"
   ]
  },
  {
   "cell_type": "markdown",
   "metadata": {},
   "source": [
    "Scan measurements are stored in the ```samp.linemeasurements``` object. Which is a dictionary, so the individual scans can be accessed with  ```samp.linemeasurements['name']```.\n",
    "The below cell shoud list the name's of the line measurements currently loaded."
   ]
  },
  {
   "cell_type": "code",
   "execution_count": 4,
   "metadata": {
    "ExecuteTime": {
     "end_time": "2019-10-08T14:43:58.341816Z",
     "start_time": "2019-10-08T14:43:58.331803Z"
    }
   },
   "outputs": [
    {
     "name": "stdout",
     "output_type": "stream",
     "text": [
      "The scan (or line) measurement are:  ['Vert_pre']\n"
     ]
    }
   ],
   "source": [
    "print(\"The scan (or line) measurement are: \", list(samp.linemeasurements.keys()))"
   ]
  },
  {
   "cell_type": "markdown",
   "metadata": {},
   "source": [
    "You can call ```.plot()``` on any measurement to generate a standard plot. For scan measurements, the best way to call ```plot``` is as follows:\n",
    "    \n",
    "```python\n",
    "samp.linemeasurements['Vert'].plot(lims=lims, plotgroup=1)\n",
    "```\n",
    "\n",
    "Assuming you used the standard BEline256.csv wavespec, ```plotgroup=1``` denotes that you want to plot the main image area and ```plotgroup=0``` denotes the overscan areas.\n",
    "```lims``` is a matrix with the plot limits for each variable, structured as such:\n",
    "```python\n",
    "[[Amin, Phmin, fmin, Qmin], [Amax,Phmax, fmax, Qmax]]\n",
    "```\n",
    "Amin and Amax are the minimum and maximum plot values for the amplitude. Phmin and Phmax are the minimum and maximum plot values for the phase. fmin and fmax are the minimum and maximum plot values for the resonance. Qmin and Qmax are the minimum and maximum plot values for the Q."
   ]
  },
  {
   "cell_type": "code",
   "execution_count": 3,
   "metadata": {
    "ExecuteTime": {
     "end_time": "2019-12-16T15:36:26.213014Z",
     "start_time": "2019-12-16T15:36:25.955148Z"
    },
    "scrolled": false
   },
   "outputs": [
    {
     "ename": "NameError",
     "evalue": "name 'samp' is not defined",
     "output_type": "error",
     "traceback": [
      "\u001b[1;31m---------------------------------------------------------------------------\u001b[0m",
      "\u001b[1;31mNameError\u001b[0m                                 Traceback (most recent call last)",
      "\u001b[1;32m<ipython-input-3-b97f3409e6df>\u001b[0m in \u001b[0;36m<module>\u001b[1;34m()\u001b[0m\n\u001b[0;32m      3\u001b[0m \u001b[1;33m\u001b[0m\u001b[0m\n\u001b[0;32m      4\u001b[0m \u001b[1;31m#Plot\u001b[0m\u001b[1;33m\u001b[0m\u001b[1;33m\u001b[0m\u001b[0m\n\u001b[1;32m----> 5\u001b[1;33m \u001b[0msamp\u001b[0m\u001b[1;33m.\u001b[0m\u001b[0mlinemeasurements\u001b[0m\u001b[1;33m[\u001b[0m\u001b[1;34m'Vert_pre'\u001b[0m\u001b[1;33m]\u001b[0m\u001b[1;33m.\u001b[0m\u001b[0mplot\u001b[0m\u001b[1;33m(\u001b[0m\u001b[0mlims\u001b[0m\u001b[1;33m=\u001b[0m\u001b[0mlims\u001b[0m\u001b[1;33m,\u001b[0m\u001b[0mplotgroup\u001b[0m\u001b[1;33m=\u001b[0m\u001b[1;36m1\u001b[0m\u001b[1;33m)\u001b[0m\u001b[1;33m\u001b[0m\u001b[0m\n\u001b[0m\u001b[0;32m      6\u001b[0m \u001b[1;33m\u001b[0m\u001b[0m\n\u001b[0;32m      7\u001b[0m \u001b[1;31m#Resize to your liking\u001b[0m\u001b[1;33m\u001b[0m\u001b[1;33m\u001b[0m\u001b[0m\n",
      "\u001b[1;31mNameError\u001b[0m: name 'samp' is not defined"
     ]
    }
   ],
   "source": [
    "# Select Limits\n",
    "lims = np.array([[0,0,0.395,0],[2000,360,0.400,200]])\n",
    "\n",
    "#Plot\n",
    "samp.linemeasurements['Vert_pre'].plot(lims=lims,plotgroup=1)"
   ]
  },
  {
   "cell_type": "markdown",
   "metadata": {},
   "source": [
    "To maintain consistent image size, you can use get_size_inches to get the size of the figure above in inches. Then you can use set_size_inches to set all of the subsequent figure sizes. Any matplotlib functionality such as this is compatible with the generated plots"
   ]
  },
  {
   "cell_type": "code",
   "execution_count": null,
   "metadata": {
    "ExecuteTime": {
     "end_time": "2019-09-25T11:45:53.853019Z",
     "start_time": "2019-09-25T11:45:53.833023Z"
    },
    "collapsed": true
   },
   "outputs": [],
   "source": [
    "#Get reference to current active figure\n",
    "fig = plt.gcf()\n",
    "\n",
    "#Get active figure size\n",
    "fig.get_size_inches()\n",
    "\n",
    "#Set active figure size\n",
    "fig.set_size_inches(18.0, 6.0)"
   ]
  },
  {
   "cell_type": "markdown",
   "metadata": {},
   "source": [
    "## SSPFM Plot"
   ]
  },
  {
   "cell_type": "markdown",
   "metadata": {},
   "source": [
    "All grid based measurements (SSPFM, relaxation, etc.) are stored in the ```samp.gridmeasurements``` object. Which is a dictionary, so the individual measurements can be accessed with  ```samp.gridmeasurements['name']```"
   ]
  },
  {
   "cell_type": "code",
   "execution_count": null,
   "metadata": {
    "ExecuteTime": {
     "end_time": "2019-10-02T13:01:39.852154Z",
     "start_time": "2019-10-02T13:01:39.846139Z"
    },
    "collapsed": true
   },
   "outputs": [],
   "source": [
    "print(\"The grid measurements are: \", list(samp._gridmeasurements.keys()))"
   ]
  },
  {
   "cell_type": "markdown",
   "metadata": {},
   "source": [
    "You can call ```.plot()``` on any measurement to generate a standard plot. For SSPFM measurements, the best way to call ```plot``` is as follows:\n",
    "    \n",
    "```python\n",
    "samp._gridmeasurements['SSPFM'].plot(pointNum=500)\n",
    "```\n",
    "\n",
    "Here pointNum is the desired point number (0 to total number of measured points minus one, e.g. for a 50x50 square, 0-2499)"
   ]
  },
  {
   "cell_type": "code",
   "execution_count": null,
   "metadata": {
    "ExecuteTime": {
     "end_time": "2019-10-02T13:02:12.749650Z",
     "start_time": "2019-10-02T13:02:12.535782Z"
    },
    "collapsed": true,
    "scrolled": false
   },
   "outputs": [],
   "source": [
    "samp.gridmeasurements['TEST'].plot(pointNum=None)\n",
    "\n",
    "fig = plt.gcf()\n",
    "fig.set_size_inches(18.0, 6.5)"
   ]
  },
  {
   "cell_type": "markdown",
   "metadata": {},
   "source": [
    "Imslice below tries to reshape the data into the grid (e.g. 2500 -> 50x50). If you are missing some of the 2500 points, this reshaping will fail. But you can just insert the missing points as all nans to fix this"
   ]
  },
  {
   "cell_type": "markdown",
   "metadata": {},
   "source": [
    "Imslice:"
   ]
  },
  {
   "cell_type": "code",
   "execution_count": null,
   "metadata": {
    "ExecuteTime": {
     "end_time": "2019-10-02T12:00:54.207525Z",
     "start_time": "2019-10-02T12:00:53.659779Z"
    },
    "collapsed": true,
    "scrolled": false
   },
   "outputs": [],
   "source": [
    "lims = np.array([[0,0,395,0],[1500,360,410,500]])\n",
    "\n",
    "samp.gridmeasurements['RT_SSPFM_10VP'].imslice(variables=None, sliceNum=150, InOut=0.0, plotgroup=0, saveName=None, limits=lims.T)\n",
    "\n",
    "fig = plt.gcf()\n",
    "fig.set_size_inches(10.0, 10.0)"
   ]
  },
  {
   "cell_type": "markdown",
   "metadata": {},
   "source": [
    "## Relaxation Plot"
   ]
  },
  {
   "cell_type": "markdown",
   "metadata": {},
   "source": [
    "The above comments on plotting applies to any gridmeasurement object. However, if a particular gridmeasurement object is a \"Relaxation-type\" measurement, ```.plot()``` will automatically plot the data against _time_. Conversly, as seen in the above cells the \"SSPFM-type\" gridmeasurement plot against voltage by default."
   ]
  },
  {
   "cell_type": "markdown",
   "metadata": {},
   "source": [
    "Further, all gridmeasurement object plotters accept arguments ```InOut``` and ```insert```, as demonstrated below. ```InOut``` allows the user to select whether the in-field data (```InOut=1```) or the out-of-field data (```InOut=0```) is plotted. ```insert``` allows the user to specify what the removed data is replaced with. E.g.```InOut=1``` and ```insert=np.inf``` will plot the _in-field_ data with the _out-of-field_ data replaced with infs."
   ]
  },
  {
   "cell_type": "code",
   "execution_count": null,
   "metadata": {
    "ExecuteTime": {
     "end_time": "2019-06-28T12:36:56.492801Z",
     "start_time": "2019-06-28T12:36:56.139007Z"
    },
    "collapsed": true
   },
   "outputs": [],
   "source": [
    "samp.gridmeasurements['Relax'].plot(pointNum=None, InOut=1.0, insert=np.inf)"
   ]
  },
  {
   "cell_type": "markdown",
   "metadata": {},
   "source": [
    "# Checking Gridmeasurements for Bad Fits"
   ]
  },
  {
   "cell_type": "code",
   "execution_count": null,
   "metadata": {
    "collapsed": true
   },
   "outputs": [],
   "source": [
    "stack = ['Q']\n",
    "inout = None # 0 for out of field, 1 for in-field\n",
    "meas = 'RT_SSPFM_10VN'\n",
    "\n",
    "stack_len = len(stack)\n",
    "test_var = stack[0]\n",
    "num_points, t_length = samp.gridmeasurements[meas].GetDataSubset(stack=[test_var], inout=inout).shape\n",
    "\n",
    "bad_dict = {}\n",
    "\n",
    "for var in stack:\n",
    "    var_data = samp.gridmeasurements[meas].GetDataSubset(stack=[var],inout=inout)\n",
    "    chirps = var_data.columns.get_level_values('ChirpNum')\n",
    "    points = var_data.index.values\n",
    "    \n",
    "    flags = np.logical_or(var_data == np.inf, var_data == -np.inf)\n",
    "    flags = np.logical_or(flags, var_data == np.nan)\n",
    "    \n",
    "    point_ind, chirp_ind = np.where(flags)\n",
    "    bad_chirps = chirps[chirp_ind]\n",
    "    \n",
    "    bad_list = np.array([(x,y) for x,y in zip(point_ind,bad_chirps)])\n",
    "    \n",
    "    bad_dict[var] = bad_list\n",
    "    \n",
    "\n",
    "for var in stack:\n",
    "    bad_list = bad_dict[var]\n",
    "    xvals = samp.gridmeasurements[meas].GetDataSubset(stack=stack, inout=inout).columns.get_level_values('xaxis').astype(float)\n",
    "    chirps = samp.gridmeasurements[meas].GetDataSubset(stack=stack, inout=inout).columns.get_level_values('ChirpNum').astype(float)\n",
    "\n",
    "    if bad_list.size != 0:\n",
    "        f = plt.figure(figsize=(8,8))\n",
    "\n",
    "        gs = gridspec.GridSpec(2, 1,hspace=0, height_ratios=[1,0.2])\n",
    "\n",
    "        ax1 = plt.subplot(gs[0])\n",
    "        ax1.scatter(bad_list[:,1],bad_list[:,0])\n",
    "        ax1.set_ylabel('Point')\n",
    "        plt.title(str(stack)+ ' Flagged Fits')\n",
    "\n",
    "        ax2 = plt.subplot(gs[1])\n",
    "        ax2.plot(chirps,xvals)\n",
    "        ax2.plot(chirps,np.full(len(chirps),0),'k--',linewidth=0.8)\n",
    "        ax2.set_ylabel('Voltage (V)')\n",
    "        ax2.set_xlabel('Chirp Num')\n"
   ]
  }
 ],
 "metadata": {
  "hide_input": false,
  "kernelspec": {
   "display_name": "Python 3",
   "language": "python",
   "name": "python3"
  },
  "language_info": {
   "codemirror_mode": {
    "name": "ipython",
    "version": 3
   },
   "file_extension": ".py",
   "mimetype": "text/x-python",
   "name": "python",
   "nbconvert_exporter": "python",
   "pygments_lexer": "ipython3",
   "version": "3.6.3"
  }
 },
 "nbformat": 4,
 "nbformat_minor": 2
}
